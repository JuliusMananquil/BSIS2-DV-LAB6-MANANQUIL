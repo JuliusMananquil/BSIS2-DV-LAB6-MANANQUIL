{
  "nbformat": 4,
  "nbformat_minor": 0,
  "metadata": {
    "colab": {
      "provenance": [],
      "authorship_tag": "ABX9TyMZ9jlsCOvzuR5uVeRS6gVy",
      "include_colab_link": true
    },
    "kernelspec": {
      "name": "python3",
      "display_name": "Python 3"
    },
    "language_info": {
      "name": "python"
    }
  },
  "cells": [
    {
      "cell_type": "markdown",
      "metadata": {
        "id": "view-in-github",
        "colab_type": "text"
      },
      "source": [
        "<a href=\"https://colab.research.google.com/github/JuliusMananquil/BSIS2-DV-LAB6-MANANQUIL/blob/main/Untitled7.ipynb\" target=\"_parent\"><img src=\"https://colab.research.google.com/assets/colab-badge.svg\" alt=\"Open In Colab\"/></a>"
      ]
    },
    {
      "cell_type": "code",
      "execution_count": 4,
      "metadata": {
        "colab": {
          "base_uri": "https://localhost:8080/"
        },
        "id": "O4rLbRfrc-4b",
        "outputId": "3f8b64a2-de7b-41a3-adba-29e78ff4f78c"
      },
      "outputs": [
        {
          "output_type": "stream",
          "name": "stdout",
          "text": [
            "[3, 7, 4, 2]\n",
            "[3, True, 'Julius', 2.0]\n",
            "[3, 7, 4, 2]\n",
            "[3, 7, 4, 2]\n",
            "[3, 7]\n"
          ]
        },
        {
          "output_type": "execute_result",
          "data": {
            "text/plain": [
              "[7, 4, 2]"
            ]
          },
          "metadata": {},
          "execution_count": 4
        }
      ],
      "source": [
        "# Define a list \n",
        "z = [3, 7, 4, 2]\n",
        "print(z)\n",
        "# Define a list\n",
        "heterogenousElements = [3, True, 'Julius', 2.0]\n",
        "print(heterogenousElements)\n",
        "# Access the first item of a list at index 0 \n",
        "z [0]\n",
        "print(z)\n",
        "z[-1]\n",
        "print(z)\n",
        "print(z [0:2])\n",
        "z [:3]\n",
        "z [1:]"
      ]
    },
    {
      "cell_type": "code",
      "source": [],
      "metadata": {
        "id": "bpF3S0RPeurw"
      },
      "execution_count": null,
      "outputs": []
    },
    {
      "cell_type": "markdown",
      "source": [],
      "metadata": {
        "id": "NSChMswHe3ai"
      }
    }
  ]
}